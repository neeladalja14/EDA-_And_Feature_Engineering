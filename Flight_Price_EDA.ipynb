{
 "cells": [
  {
   "cell_type": "markdown",
   "id": "9f4f912e",
   "metadata": {},
   "source": [
    "# Flight Price Prediction EDA"
   ]
  },
  {
   "cell_type": "code",
   "execution_count": 3,
   "id": "983c5cc6",
   "metadata": {},
   "outputs": [],
   "source": [
    "import pandas as pd\n",
    "import numpy as np\n",
    "import seaborn as sns\n",
    "import matplotlib.pyplot as plt\n",
    "%matplotlib inline\n"
   ]
  },
  {
   "cell_type": "code",
   "execution_count": 6,
   "id": "1d20adb6",
   "metadata": {},
   "outputs": [],
   "source": [
    "train_df=pd.read_excel('./Data_Train.xlsx')"
   ]
  },
  {
   "cell_type": "code",
   "execution_count": 8,
   "id": "067a2a7d",
   "metadata": {},
   "outputs": [],
   "source": [
    "test_df=pd.read_excel('./Test_set.xlsx')"
   ]
  },
  {
   "cell_type": "code",
   "execution_count": null,
   "id": "195caee4",
   "metadata": {},
   "outputs": [],
   "source": []
  }
 ],
 "metadata": {
  "kernelspec": {
   "display_name": "Python 3 (ipykernel)",
   "language": "python",
   "name": "python3"
  },
  "language_info": {
   "codemirror_mode": {
    "name": "ipython",
    "version": 3
   },
   "file_extension": ".py",
   "mimetype": "text/x-python",
   "name": "python",
   "nbconvert_exporter": "python",
   "pygments_lexer": "ipython3",
   "version": "3.10.9"
  }
 },
 "nbformat": 4,
 "nbformat_minor": 5
}
